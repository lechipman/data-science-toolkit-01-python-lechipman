{
  "nbformat": 4,
  "nbformat_minor": 0,
  "metadata": {
    "colab": {
      "name": "Data-science-toolkit-python-LChipman.ipynb",
      "provenance": [],
      "include_colab_link": true
    },
    "kernelspec": {
      "name": "python3",
      "display_name": "Python 3"
    },
    "language_info": {
      "name": "python"
    },
    "gpuClass": "standard"
  },
  "cells": [
    {
      "cell_type": "markdown",
      "metadata": {
        "id": "view-in-github",
        "colab_type": "text"
      },
      "source": [
        "<a href=\"https://colab.research.google.com/github/lechipman/data-science-toolkit-01-python-lechipman/blob/main/Data_science_toolkit_python_LChipman.ipynb\" target=\"_parent\"><img src=\"https://colab.research.google.com/assets/colab-badge.svg\" alt=\"Open In Colab\"/></a>"
      ]
    },
    {
      "cell_type": "code",
      "source": [
        ""
      ],
      "metadata": {
        "id": "QBPFZXHsKwF6"
      },
      "execution_count": null,
      "outputs": []
    },
    {
      "cell_type": "markdown",
      "source": [
        "<img style=\"float: left;\" src=\"https://drive.google.com/uc?export=view&id=13_P0Dq9rb1aXFFVfspMRn5hlP7t8RuwC\" width=\"200\" height=\"100\">\n",
        "\n",
        "\n",
        "![Colored Bar](https://drive.google.com/uc?export=view&id=1WL0ur5SQc5ijCvXc6MvWUeoWOIVS_rQ9)\n",
        "\n",
        "\n",
        "\n",
        "# Data Science Toolkit - Intro to Python\n",
        "\n",
        "Welcome to the Data Science Toolkit workshop! Today, we will learn the fundamentals of programming for data science in Python, including:\n",
        "\n",
        "\n",
        "1.   Variables and Data Types\n",
        "2.   Importing Tabular Data\n",
        "3.   Plotting\n",
        "4.   Functions and Loops"
      ],
      "metadata": {
        "id": "4JXr2AgdhIiG"
      }
    },
    {
      "cell_type": "markdown",
      "source": [
        "## Variables and Data Types\n",
        "\n",
        "Variables are used to store information in Python using the assignment operator `=` . They can take on numerical values, or text values, or some combination. Python is case sensitive, and you should get in the habit of giving meaningful names to your variables. \n",
        "\n",
        "The following tasks are modeled after the Software Carpentries (http://swcarpentry.github.io/python-novice-gapminder/02-variables/index.html)\n",
        "\n",
        "\n"
      ],
      "metadata": {
        "id": "utjSE4J4iYbY"
      }
    },
    {
      "cell_type": "markdown",
      "source": [
        "### **TASK**: Create some variables"
      ],
      "metadata": {
        "id": "CbZjhAYoy5vD"
      }
    },
    {
      "cell_type": "code",
      "source": [
        "name = \"Bruce\"\n",
        "name"
      ],
      "metadata": {
        "colab": {
          "base_uri": "https://localhost:8080/",
          "height": 35
        },
        "id": "7hJTS9btR4ah",
        "outputId": "48baab8b-4157-416b-9220-0ca1a187ee92"
      },
      "execution_count": null,
      "outputs": [
        {
          "output_type": "execute_result",
          "data": {
            "text/plain": [
              "'Bruce'"
            ],
            "application/vnd.google.colaboratory.intrinsic+json": {
              "type": "string"
            }
          },
          "metadata": {},
          "execution_count": 4
        }
      ]
    },
    {
      "cell_type": "markdown",
      "source": [
        "### **TASK**: Use `print` to display values"
      ],
      "metadata": {
        "id": "vyhcp-FszSaD"
      }
    },
    {
      "cell_type": "code",
      "source": [
        "mass1 = 40.0\n",
        "mass2 = 45.0\n",
        "print(mass1, mass2)\n",
        "print(\"My name is\", name)"
      ],
      "metadata": {
        "id": "Yr5nVCg0zun-",
        "colab": {
          "base_uri": "https://localhost:8080/"
        },
        "outputId": "f1d21b8d-aa80-4d87-b1c8-558841ef222f"
      },
      "execution_count": null,
      "outputs": [
        {
          "output_type": "stream",
          "name": "stdout",
          "text": [
            "40.0 45.0\n",
            "My name is Bruce\n"
          ]
        }
      ]
    },
    {
      "cell_type": "code",
      "source": [
        "name = \"Bruce\"\n",
        "name"
      ],
      "metadata": {
        "colab": {
          "base_uri": "https://localhost:8080/",
          "height": 35
        },
        "id": "VK2mZSxrPW_Q",
        "outputId": "3ca66a7a-483e-4374-fe17-ae9ded250f0f"
      },
      "execution_count": null,
      "outputs": [
        {
          "output_type": "execute_result",
          "data": {
            "text/plain": [
              "'Bruce'"
            ],
            "application/vnd.google.colaboratory.intrinsic+json": {
              "type": "string"
            }
          },
          "metadata": {},
          "execution_count": 23
        }
      ]
    },
    {
      "cell_type": "markdown",
      "source": [
        "### Variables must be created before they are used\n",
        "\n",
        "\n",
        "*   If a variable doesn’t exist yet, or if the name has been mis-spelled, Python reports an error.\n",
        "*   It can be helpful to use the `Runtime` -> `Restart & Run All` option to clear out your variables and re-run cells from the top of the notebook.\n",
        "*   A variable inspector is a handy way to monitor variable assigments.\n",
        "\n",
        "\n",
        "\n"
      ],
      "metadata": {
        "id": "GO7Qfar2zxPq"
      }
    },
    {
      "cell_type": "code",
      "source": [
        "velocity = 100.0\n",
        "velocity"
      ],
      "metadata": {
        "id": "db34Yj8h0Gx1",
        "colab": {
          "base_uri": "https://localhost:8080/"
        },
        "outputId": "ea7e6bbd-8c57-4a2a-eab1-a60930940f62"
      },
      "execution_count": null,
      "outputs": [
        {
          "output_type": "execute_result",
          "data": {
            "text/plain": [
              "100.0"
            ]
          },
          "metadata": {},
          "execution_count": 24
        }
      ]
    },
    {
      "cell_type": "markdown",
      "source": [
        "### **TASK**: Use your variables and Python operators (`+, -, *, /, ^`) in calculations "
      ],
      "metadata": {
        "id": "ecw_EHju1Fy7"
      }
    },
    {
      "cell_type": "code",
      "source": [
        "mass2+10\n",
        "mass2\n",
        "mass2*10\n",
        "mass2/5"
      ],
      "metadata": {
        "id": "qkPYqjbj1lwy",
        "colab": {
          "base_uri": "https://localhost:8080/"
        },
        "outputId": "6daba067-39c1-4728-8be4-ac71f04fceb5"
      },
      "execution_count": null,
      "outputs": [
        {
          "output_type": "execute_result",
          "data": {
            "text/plain": [
              "9.0"
            ]
          },
          "metadata": {},
          "execution_count": 25
        }
      ]
    },
    {
      "cell_type": "code",
      "source": [
        "mass3 = (mass2//5)\n",
        "mass3"
      ],
      "metadata": {
        "colab": {
          "base_uri": "https://localhost:8080/"
        },
        "id": "657QErJPTHjH",
        "outputId": "eb8b444e-d594-497f-a124-faffdc628cc2"
      },
      "execution_count": null,
      "outputs": [
        {
          "output_type": "execute_result",
          "data": {
            "text/plain": [
              "9.0"
            ]
          },
          "metadata": {},
          "execution_count": 26
        }
      ]
    },
    {
      "cell_type": "markdown",
      "source": [
        "### **TASK**: Use the built-in `type()` function to determine the type of data contained within a variable"
      ],
      "metadata": {
        "id": "qCy7WcFm1vam"
      }
    },
    {
      "cell_type": "code",
      "source": [
        "type(mass2)\n",
        "type(name)\n",
        "type(mass1)"
      ],
      "metadata": {
        "id": "xNapvOsG2bB7",
        "colab": {
          "base_uri": "https://localhost:8080/"
        },
        "outputId": "66970189-7626-49cd-dfbc-521632d25c34"
      },
      "execution_count": null,
      "outputs": [
        {
          "output_type": "execute_result",
          "data": {
            "text/plain": [
              "float"
            ]
          },
          "metadata": {},
          "execution_count": 27
        }
      ]
    },
    {
      "cell_type": "markdown",
      "source": [
        "### **TASK**: Use the built-in `len()` function to determine the length of a string. \n",
        "\n",
        "\n",
        "*   **NOTE**: Python uses zero indexing so the first element in a string takes on an index of zero (0).\n",
        "\n"
      ],
      "metadata": {
        "id": "mIIX11_l2qIF"
      }
    },
    {
      "cell_type": "code",
      "source": [
        "len(name)"
      ],
      "metadata": {
        "id": "B-BS2e_p26OC",
        "colab": {
          "base_uri": "https://localhost:8080/"
        },
        "outputId": "e2a78696-6c5c-4182-def0-44656923b3cb"
      },
      "execution_count": null,
      "outputs": [
        {
          "output_type": "execute_result",
          "data": {
            "text/plain": [
              "5"
            ]
          },
          "metadata": {},
          "execution_count": 28
        }
      ]
    },
    {
      "cell_type": "markdown",
      "source": [
        "### **TASK**: Use a slice to get a substring"
      ],
      "metadata": {
        "id": "Ii58oStH3AL0"
      }
    },
    {
      "cell_type": "code",
      "source": [
        ""
      ],
      "metadata": {
        "id": "QFMqw4v33G83"
      },
      "execution_count": null,
      "outputs": []
    },
    {
      "cell_type": "markdown",
      "source": [
        "## Importing Tabular data\n",
        "\n",
        "* Download temperature data from the [NOAA Climate data website](https://www.ncei.noaa.gov/access/monitoring/climate-at-a-glance/)\n",
        "\n",
        "* Use the `pandas` library to work with tabular data in Python (be careful to skip the 'header' rows and assign missing values when appropriate)\n",
        "* NOTE: This lesson is modeled after the Sofware Carpentries (http://swcarpentry.github.io/python-novice-gapminder/07-reading-tabular/index.html)"
      ],
      "metadata": {
        "id": "e3fXdYPcidYQ"
      }
    },
    {
      "cell_type": "markdown",
      "source": [
        "### **TASK**: Use `pd.read_csv()` to open a comma separated value (.csv) file. Use the built-in `.head()` function to display the first 5 rows of your data."
      ],
      "metadata": {
        "id": "vutoXVLH6sli"
      }
    },
    {
      "cell_type": "code",
      "source": [
        "chicgo_tmax_url = (\"https://www.ncei.noaa.gov/cag/city/time-series/\"\n",
        "\"USW00094846-tmax-all-7-1958-2022.csv\"\n",
        "\"?base_prd=true&begbaseyear=1958&endbaseyear=2000\")\n",
        "chicgo_tmax_url"
      ],
      "metadata": {
        "id": "zSFgngvsihNY",
        "colab": {
          "base_uri": "https://localhost:8080/",
          "height": 53
        },
        "outputId": "cc6393a6-a2ab-4c98-b17a-31ad3ebd6ec0"
      },
      "execution_count": null,
      "outputs": [
        {
          "output_type": "execute_result",
          "data": {
            "text/plain": [
              "'https://www.ncei.noaa.gov/cag/city/time-series/USW00094846-tmax-all-7-1958-2022.csv?base_prd=true&begbaseyear=1958&endbaseyear=2000'"
            ],
            "application/vnd.google.colaboratory.intrinsic+json": {
              "type": "string"
            }
          },
          "metadata": {},
          "execution_count": 29
        }
      ]
    },
    {
      "cell_type": "code",
      "source": [
        "DC_tmax_url = (\"https://www.ncei.noaa.gov/cag/city/time-series/USW00093738-tavg-all-7-1960-2022.csv?base_prd=true&begbaseyear=1960&endbaseyear=2000\")\n",
        "DC_tmax_url"
      ],
      "metadata": {
        "colab": {
          "base_uri": "https://localhost:8080/",
          "height": 53
        },
        "id": "lk24dbkDcS-Z",
        "outputId": "6fa6c988-7f84-48aa-d35b-dae8c0bfc89f"
      },
      "execution_count": null,
      "outputs": [
        {
          "output_type": "execute_result",
          "data": {
            "text/plain": [
              "'https://www.ncei.noaa.gov/cag/city/time-series/USW00093738-tavg-all-7-1960-2022.csv?base_prd=true&begbaseyear=1960&endbaseyear=2000'"
            ],
            "application/vnd.google.colaboratory.intrinsic+json": {
              "type": "string"
            }
          },
          "metadata": {},
          "execution_count": 31
        }
      ]
    },
    {
      "cell_type": "code",
      "source": [
        "import pandas as pd"
      ],
      "metadata": {
        "id": "YDqcJwGydRsg"
      },
      "execution_count": null,
      "outputs": []
    },
    {
      "cell_type": "code",
      "source": [
        "#define url to csv data\n",
        "DC_tmax_url = (\n",
        "          \"https://www.ncei.noaa.gov/cag/city/time-series/\"\n",
        "          \"USW00093738-tmax-all-7-1960-2022.csv\"\n",
        "          \"?base_prd=true&begbaseyear=1960&endbaseyear=2000\")\n",
        "DC_tmax_url\n",
        "#Open data using pandas\n",
        "DC_tmax_df = pd.read_csv(DC_tmax_url,\n",
        "                         index_col=\"Date\",\n",
        "                         skiprows=4,\n",
        "                         na_values=-99)\n",
        "DC_tmax_df"
      ],
      "metadata": {
        "colab": {
          "base_uri": "https://localhost:8080/",
          "height": 455
        },
        "id": "X-KYq2vsdjSM",
        "outputId": "fd1e1781-5acf-458c-c860-29a1e0bcc230"
      },
      "execution_count": null,
      "outputs": [
        {
          "output_type": "execute_result",
          "data": {
            "text/plain": [
              "        Value  Anomaly\n",
              "Date                  \n",
              "196006   81.8     -0.3\n",
              "196007    NaN   -185.3\n",
              "196008    NaN   -183.8\n",
              "196009    NaN   -176.8\n",
              "196010    NaN   -165.7\n",
              "...       ...      ...\n",
              "202203   59.9      6.3\n",
              "202204   65.3      0.6\n",
              "202205   75.9      2.0\n",
              "202206   84.1      2.0\n",
              "202207   88.3      2.0\n",
              "\n",
              "[746 rows x 2 columns]"
            ],
            "text/html": [
              "\n",
              "  <div id=\"df-a6d95dd5-361b-4bca-91cf-da9f2b0ac7df\">\n",
              "    <div class=\"colab-df-container\">\n",
              "      <div>\n",
              "<style scoped>\n",
              "    .dataframe tbody tr th:only-of-type {\n",
              "        vertical-align: middle;\n",
              "    }\n",
              "\n",
              "    .dataframe tbody tr th {\n",
              "        vertical-align: top;\n",
              "    }\n",
              "\n",
              "    .dataframe thead th {\n",
              "        text-align: right;\n",
              "    }\n",
              "</style>\n",
              "<table border=\"1\" class=\"dataframe\">\n",
              "  <thead>\n",
              "    <tr style=\"text-align: right;\">\n",
              "      <th></th>\n",
              "      <th>Value</th>\n",
              "      <th>Anomaly</th>\n",
              "    </tr>\n",
              "    <tr>\n",
              "      <th>Date</th>\n",
              "      <th></th>\n",
              "      <th></th>\n",
              "    </tr>\n",
              "  </thead>\n",
              "  <tbody>\n",
              "    <tr>\n",
              "      <th>196006</th>\n",
              "      <td>81.8</td>\n",
              "      <td>-0.3</td>\n",
              "    </tr>\n",
              "    <tr>\n",
              "      <th>196007</th>\n",
              "      <td>NaN</td>\n",
              "      <td>-185.3</td>\n",
              "    </tr>\n",
              "    <tr>\n",
              "      <th>196008</th>\n",
              "      <td>NaN</td>\n",
              "      <td>-183.8</td>\n",
              "    </tr>\n",
              "    <tr>\n",
              "      <th>196009</th>\n",
              "      <td>NaN</td>\n",
              "      <td>-176.8</td>\n",
              "    </tr>\n",
              "    <tr>\n",
              "      <th>196010</th>\n",
              "      <td>NaN</td>\n",
              "      <td>-165.7</td>\n",
              "    </tr>\n",
              "    <tr>\n",
              "      <th>...</th>\n",
              "      <td>...</td>\n",
              "      <td>...</td>\n",
              "    </tr>\n",
              "    <tr>\n",
              "      <th>202203</th>\n",
              "      <td>59.9</td>\n",
              "      <td>6.3</td>\n",
              "    </tr>\n",
              "    <tr>\n",
              "      <th>202204</th>\n",
              "      <td>65.3</td>\n",
              "      <td>0.6</td>\n",
              "    </tr>\n",
              "    <tr>\n",
              "      <th>202205</th>\n",
              "      <td>75.9</td>\n",
              "      <td>2.0</td>\n",
              "    </tr>\n",
              "    <tr>\n",
              "      <th>202206</th>\n",
              "      <td>84.1</td>\n",
              "      <td>2.0</td>\n",
              "    </tr>\n",
              "    <tr>\n",
              "      <th>202207</th>\n",
              "      <td>88.3</td>\n",
              "      <td>2.0</td>\n",
              "    </tr>\n",
              "  </tbody>\n",
              "</table>\n",
              "<p>746 rows × 2 columns</p>\n",
              "</div>\n",
              "      <button class=\"colab-df-convert\" onclick=\"convertToInteractive('df-a6d95dd5-361b-4bca-91cf-da9f2b0ac7df')\"\n",
              "              title=\"Convert this dataframe to an interactive table.\"\n",
              "              style=\"display:none;\">\n",
              "        \n",
              "  <svg xmlns=\"http://www.w3.org/2000/svg\" height=\"24px\"viewBox=\"0 0 24 24\"\n",
              "       width=\"24px\">\n",
              "    <path d=\"M0 0h24v24H0V0z\" fill=\"none\"/>\n",
              "    <path d=\"M18.56 5.44l.94 2.06.94-2.06 2.06-.94-2.06-.94-.94-2.06-.94 2.06-2.06.94zm-11 1L8.5 8.5l.94-2.06 2.06-.94-2.06-.94L8.5 2.5l-.94 2.06-2.06.94zm10 10l.94 2.06.94-2.06 2.06-.94-2.06-.94-.94-2.06-.94 2.06-2.06.94z\"/><path d=\"M17.41 7.96l-1.37-1.37c-.4-.4-.92-.59-1.43-.59-.52 0-1.04.2-1.43.59L10.3 9.45l-7.72 7.72c-.78.78-.78 2.05 0 2.83L4 21.41c.39.39.9.59 1.41.59.51 0 1.02-.2 1.41-.59l7.78-7.78 2.81-2.81c.8-.78.8-2.07 0-2.86zM5.41 20L4 18.59l7.72-7.72 1.47 1.35L5.41 20z\"/>\n",
              "  </svg>\n",
              "      </button>\n",
              "      \n",
              "  <style>\n",
              "    .colab-df-container {\n",
              "      display:flex;\n",
              "      flex-wrap:wrap;\n",
              "      gap: 12px;\n",
              "    }\n",
              "\n",
              "    .colab-df-convert {\n",
              "      background-color: #E8F0FE;\n",
              "      border: none;\n",
              "      border-radius: 50%;\n",
              "      cursor: pointer;\n",
              "      display: none;\n",
              "      fill: #1967D2;\n",
              "      height: 32px;\n",
              "      padding: 0 0 0 0;\n",
              "      width: 32px;\n",
              "    }\n",
              "\n",
              "    .colab-df-convert:hover {\n",
              "      background-color: #E2EBFA;\n",
              "      box-shadow: 0px 1px 2px rgba(60, 64, 67, 0.3), 0px 1px 3px 1px rgba(60, 64, 67, 0.15);\n",
              "      fill: #174EA6;\n",
              "    }\n",
              "\n",
              "    [theme=dark] .colab-df-convert {\n",
              "      background-color: #3B4455;\n",
              "      fill: #D2E3FC;\n",
              "    }\n",
              "\n",
              "    [theme=dark] .colab-df-convert:hover {\n",
              "      background-color: #434B5C;\n",
              "      box-shadow: 0px 1px 3px 1px rgba(0, 0, 0, 0.15);\n",
              "      filter: drop-shadow(0px 1px 2px rgba(0, 0, 0, 0.3));\n",
              "      fill: #FFFFFF;\n",
              "    }\n",
              "  </style>\n",
              "\n",
              "      <script>\n",
              "        const buttonEl =\n",
              "          document.querySelector('#df-a6d95dd5-361b-4bca-91cf-da9f2b0ac7df button.colab-df-convert');\n",
              "        buttonEl.style.display =\n",
              "          google.colab.kernel.accessAllowed ? 'block' : 'none';\n",
              "\n",
              "        async function convertToInteractive(key) {\n",
              "          const element = document.querySelector('#df-a6d95dd5-361b-4bca-91cf-da9f2b0ac7df');\n",
              "          const dataTable =\n",
              "            await google.colab.kernel.invokeFunction('convertToInteractive',\n",
              "                                                     [key], {});\n",
              "          if (!dataTable) return;\n",
              "\n",
              "          const docLinkHtml = 'Like what you see? Visit the ' +\n",
              "            '<a target=\"_blank\" href=https://colab.research.google.com/notebooks/data_table.ipynb>data table notebook</a>'\n",
              "            + ' to learn more about interactive tables.';\n",
              "          element.innerHTML = '';\n",
              "          dataTable['output_type'] = 'display_data';\n",
              "          await google.colab.output.renderOutput(dataTable, element);\n",
              "          const docLink = document.createElement('div');\n",
              "          docLink.innerHTML = docLinkHtml;\n",
              "          element.appendChild(docLink);\n",
              "        }\n",
              "      </script>\n",
              "    </div>\n",
              "  </div>\n",
              "  "
            ]
          },
          "metadata": {},
          "execution_count": 48
        }
      ]
    },
    {
      "cell_type": "code",
      "source": [
        "DC_tmax_df.index = pd.to_datetime(DC_tmax_df.index, format = '%Y%m')\n",
        "DC_tmax_df"
      ],
      "metadata": {
        "colab": {
          "base_uri": "https://localhost:8080/",
          "height": 455
        },
        "id": "G5AkBbEypZX8",
        "outputId": "d3aa26a4-1684-42cc-96d5-881a7e2b2c17"
      },
      "execution_count": null,
      "outputs": [
        {
          "output_type": "execute_result",
          "data": {
            "text/plain": [
              "            Value  Anomaly\n",
              "Date                      \n",
              "1960-06-01   81.8     -0.3\n",
              "1960-07-01    NaN   -185.3\n",
              "1960-08-01    NaN   -183.8\n",
              "1960-09-01    NaN   -176.8\n",
              "1960-10-01    NaN   -165.7\n",
              "...           ...      ...\n",
              "2022-03-01   59.9      6.3\n",
              "2022-04-01   65.3      0.6\n",
              "2022-05-01   75.9      2.0\n",
              "2022-06-01   84.1      2.0\n",
              "2022-07-01   88.3      2.0\n",
              "\n",
              "[746 rows x 2 columns]"
            ],
            "text/html": [
              "\n",
              "  <div id=\"df-c43df23a-bb4a-4f11-95c6-c784303fb433\">\n",
              "    <div class=\"colab-df-container\">\n",
              "      <div>\n",
              "<style scoped>\n",
              "    .dataframe tbody tr th:only-of-type {\n",
              "        vertical-align: middle;\n",
              "    }\n",
              "\n",
              "    .dataframe tbody tr th {\n",
              "        vertical-align: top;\n",
              "    }\n",
              "\n",
              "    .dataframe thead th {\n",
              "        text-align: right;\n",
              "    }\n",
              "</style>\n",
              "<table border=\"1\" class=\"dataframe\">\n",
              "  <thead>\n",
              "    <tr style=\"text-align: right;\">\n",
              "      <th></th>\n",
              "      <th>Value</th>\n",
              "      <th>Anomaly</th>\n",
              "    </tr>\n",
              "    <tr>\n",
              "      <th>Date</th>\n",
              "      <th></th>\n",
              "      <th></th>\n",
              "    </tr>\n",
              "  </thead>\n",
              "  <tbody>\n",
              "    <tr>\n",
              "      <th>1960-06-01</th>\n",
              "      <td>81.8</td>\n",
              "      <td>-0.3</td>\n",
              "    </tr>\n",
              "    <tr>\n",
              "      <th>1960-07-01</th>\n",
              "      <td>NaN</td>\n",
              "      <td>-185.3</td>\n",
              "    </tr>\n",
              "    <tr>\n",
              "      <th>1960-08-01</th>\n",
              "      <td>NaN</td>\n",
              "      <td>-183.8</td>\n",
              "    </tr>\n",
              "    <tr>\n",
              "      <th>1960-09-01</th>\n",
              "      <td>NaN</td>\n",
              "      <td>-176.8</td>\n",
              "    </tr>\n",
              "    <tr>\n",
              "      <th>1960-10-01</th>\n",
              "      <td>NaN</td>\n",
              "      <td>-165.7</td>\n",
              "    </tr>\n",
              "    <tr>\n",
              "      <th>...</th>\n",
              "      <td>...</td>\n",
              "      <td>...</td>\n",
              "    </tr>\n",
              "    <tr>\n",
              "      <th>2022-03-01</th>\n",
              "      <td>59.9</td>\n",
              "      <td>6.3</td>\n",
              "    </tr>\n",
              "    <tr>\n",
              "      <th>2022-04-01</th>\n",
              "      <td>65.3</td>\n",
              "      <td>0.6</td>\n",
              "    </tr>\n",
              "    <tr>\n",
              "      <th>2022-05-01</th>\n",
              "      <td>75.9</td>\n",
              "      <td>2.0</td>\n",
              "    </tr>\n",
              "    <tr>\n",
              "      <th>2022-06-01</th>\n",
              "      <td>84.1</td>\n",
              "      <td>2.0</td>\n",
              "    </tr>\n",
              "    <tr>\n",
              "      <th>2022-07-01</th>\n",
              "      <td>88.3</td>\n",
              "      <td>2.0</td>\n",
              "    </tr>\n",
              "  </tbody>\n",
              "</table>\n",
              "<p>746 rows × 2 columns</p>\n",
              "</div>\n",
              "      <button class=\"colab-df-convert\" onclick=\"convertToInteractive('df-c43df23a-bb4a-4f11-95c6-c784303fb433')\"\n",
              "              title=\"Convert this dataframe to an interactive table.\"\n",
              "              style=\"display:none;\">\n",
              "        \n",
              "  <svg xmlns=\"http://www.w3.org/2000/svg\" height=\"24px\"viewBox=\"0 0 24 24\"\n",
              "       width=\"24px\">\n",
              "    <path d=\"M0 0h24v24H0V0z\" fill=\"none\"/>\n",
              "    <path d=\"M18.56 5.44l.94 2.06.94-2.06 2.06-.94-2.06-.94-.94-2.06-.94 2.06-2.06.94zm-11 1L8.5 8.5l.94-2.06 2.06-.94-2.06-.94L8.5 2.5l-.94 2.06-2.06.94zm10 10l.94 2.06.94-2.06 2.06-.94-2.06-.94-.94-2.06-.94 2.06-2.06.94z\"/><path d=\"M17.41 7.96l-1.37-1.37c-.4-.4-.92-.59-1.43-.59-.52 0-1.04.2-1.43.59L10.3 9.45l-7.72 7.72c-.78.78-.78 2.05 0 2.83L4 21.41c.39.39.9.59 1.41.59.51 0 1.02-.2 1.41-.59l7.78-7.78 2.81-2.81c.8-.78.8-2.07 0-2.86zM5.41 20L4 18.59l7.72-7.72 1.47 1.35L5.41 20z\"/>\n",
              "  </svg>\n",
              "      </button>\n",
              "      \n",
              "  <style>\n",
              "    .colab-df-container {\n",
              "      display:flex;\n",
              "      flex-wrap:wrap;\n",
              "      gap: 12px;\n",
              "    }\n",
              "\n",
              "    .colab-df-convert {\n",
              "      background-color: #E8F0FE;\n",
              "      border: none;\n",
              "      border-radius: 50%;\n",
              "      cursor: pointer;\n",
              "      display: none;\n",
              "      fill: #1967D2;\n",
              "      height: 32px;\n",
              "      padding: 0 0 0 0;\n",
              "      width: 32px;\n",
              "    }\n",
              "\n",
              "    .colab-df-convert:hover {\n",
              "      background-color: #E2EBFA;\n",
              "      box-shadow: 0px 1px 2px rgba(60, 64, 67, 0.3), 0px 1px 3px 1px rgba(60, 64, 67, 0.15);\n",
              "      fill: #174EA6;\n",
              "    }\n",
              "\n",
              "    [theme=dark] .colab-df-convert {\n",
              "      background-color: #3B4455;\n",
              "      fill: #D2E3FC;\n",
              "    }\n",
              "\n",
              "    [theme=dark] .colab-df-convert:hover {\n",
              "      background-color: #434B5C;\n",
              "      box-shadow: 0px 1px 3px 1px rgba(0, 0, 0, 0.15);\n",
              "      filter: drop-shadow(0px 1px 2px rgba(0, 0, 0, 0.3));\n",
              "      fill: #FFFFFF;\n",
              "    }\n",
              "  </style>\n",
              "\n",
              "      <script>\n",
              "        const buttonEl =\n",
              "          document.querySelector('#df-c43df23a-bb4a-4f11-95c6-c784303fb433 button.colab-df-convert');\n",
              "        buttonEl.style.display =\n",
              "          google.colab.kernel.accessAllowed ? 'block' : 'none';\n",
              "\n",
              "        async function convertToInteractive(key) {\n",
              "          const element = document.querySelector('#df-c43df23a-bb4a-4f11-95c6-c784303fb433');\n",
              "          const dataTable =\n",
              "            await google.colab.kernel.invokeFunction('convertToInteractive',\n",
              "                                                     [key], {});\n",
              "          if (!dataTable) return;\n",
              "\n",
              "          const docLinkHtml = 'Like what you see? Visit the ' +\n",
              "            '<a target=\"_blank\" href=https://colab.research.google.com/notebooks/data_table.ipynb>data table notebook</a>'\n",
              "            + ' to learn more about interactive tables.';\n",
              "          element.innerHTML = '';\n",
              "          dataTable['output_type'] = 'display_data';\n",
              "          await google.colab.output.renderOutput(dataTable, element);\n",
              "          const docLink = document.createElement('div');\n",
              "          docLink.innerHTML = docLinkHtml;\n",
              "          element.appendChild(docLink);\n",
              "        }\n",
              "      </script>\n",
              "    </div>\n",
              "  </div>\n",
              "  "
            ]
          },
          "metadata": {},
          "execution_count": 59
        }
      ]
    },
    {
      "cell_type": "code",
      "source": [
        "DC_tmax_df.info()"
      ],
      "metadata": {
        "colab": {
          "base_uri": "https://localhost:8080/"
        },
        "id": "WeSBzs25uUek",
        "outputId": "b1666e24-9dae-4373-8d0d-9213867e5ba1"
      },
      "execution_count": null,
      "outputs": [
        {
          "output_type": "stream",
          "name": "stdout",
          "text": [
            "<class 'pandas.core.frame.DataFrame'>\n",
            "DatetimeIndex: 746 entries, 1960-06-01 to 2022-07-01\n",
            "Data columns (total 2 columns):\n",
            " #   Column   Non-Null Count  Dtype  \n",
            "---  ------   --------------  -----  \n",
            " 0   Value    727 non-null    float64\n",
            " 1   Anomaly  746 non-null    float64\n",
            "dtypes: float64(2)\n",
            "memory usage: 17.5 KB\n"
          ]
        }
      ]
    },
    {
      "cell_type": "markdown",
      "source": [
        "### **TASK**: Use `index_col` to specify that a column’s values should be used as row headings"
      ],
      "metadata": {
        "id": "KoqL5dV474Hq"
      }
    },
    {
      "cell_type": "code",
      "source": [
        ""
      ],
      "metadata": {
        "id": "uG9Y44Vg8TD4"
      },
      "execution_count": null,
      "outputs": []
    },
    {
      "cell_type": "markdown",
      "source": [
        "### **TASK**: Use the `DataFrame.info()` method to find out more about a dataframe"
      ],
      "metadata": {
        "id": "2DqM9N-38czp"
      }
    },
    {
      "cell_type": "code",
      "source": [
        "DC_tmax_df.info()"
      ],
      "metadata": {
        "id": "w7xA6EJQ86yC",
        "colab": {
          "base_uri": "https://localhost:8080/"
        },
        "outputId": "31c261a0-5211-4821-de1d-1c89d91cbb1b"
      },
      "execution_count": null,
      "outputs": [
        {
          "output_type": "stream",
          "name": "stdout",
          "text": [
            "<class 'pandas.core.frame.DataFrame'>\n",
            "Int64Index: 746 entries, 196006 to 202207\n",
            "Data columns (total 2 columns):\n",
            " #   Column   Non-Null Count  Dtype  \n",
            "---  ------   --------------  -----  \n",
            " 0   Value    727 non-null    float64\n",
            " 1   Anomaly  746 non-null    float64\n",
            "dtypes: float64(2)\n",
            "memory usage: 17.5 KB\n"
          ]
        }
      ]
    },
    {
      "cell_type": "markdown",
      "source": [
        "### **TASK**: Use `DataFrame.describe()` to get summary statistics about data"
      ],
      "metadata": {
        "id": "znvArbAO87nD"
      }
    },
    {
      "cell_type": "code",
      "source": [
        "DC_tmax_df.describe()"
      ],
      "metadata": {
        "id": "Ag1EETfm9Ar8",
        "colab": {
          "base_uri": "https://localhost:8080/",
          "height": 300
        },
        "outputId": "3974351b-3cdb-4881-d94e-eeadf517dda5"
      },
      "execution_count": null,
      "outputs": [
        {
          "output_type": "execute_result",
          "data": {
            "text/plain": [
              "            Value     Anomaly\n",
              "count  727.000000  746.000000\n",
              "mean    65.179505   -3.521582\n",
              "std     16.407172   26.593189\n",
              "min     29.000000 -185.300000\n",
              "25%     50.450000   -2.000000\n",
              "50%     66.300000    0.600000\n",
              "75%     80.800000    3.000000\n",
              "max     92.800000   13.300000"
            ],
            "text/html": [
              "\n",
              "  <div id=\"df-f8f5647c-a88d-40e3-b1f6-e4370d091ad5\">\n",
              "    <div class=\"colab-df-container\">\n",
              "      <div>\n",
              "<style scoped>\n",
              "    .dataframe tbody tr th:only-of-type {\n",
              "        vertical-align: middle;\n",
              "    }\n",
              "\n",
              "    .dataframe tbody tr th {\n",
              "        vertical-align: top;\n",
              "    }\n",
              "\n",
              "    .dataframe thead th {\n",
              "        text-align: right;\n",
              "    }\n",
              "</style>\n",
              "<table border=\"1\" class=\"dataframe\">\n",
              "  <thead>\n",
              "    <tr style=\"text-align: right;\">\n",
              "      <th></th>\n",
              "      <th>Value</th>\n",
              "      <th>Anomaly</th>\n",
              "    </tr>\n",
              "  </thead>\n",
              "  <tbody>\n",
              "    <tr>\n",
              "      <th>count</th>\n",
              "      <td>727.000000</td>\n",
              "      <td>746.000000</td>\n",
              "    </tr>\n",
              "    <tr>\n",
              "      <th>mean</th>\n",
              "      <td>65.179505</td>\n",
              "      <td>-3.521582</td>\n",
              "    </tr>\n",
              "    <tr>\n",
              "      <th>std</th>\n",
              "      <td>16.407172</td>\n",
              "      <td>26.593189</td>\n",
              "    </tr>\n",
              "    <tr>\n",
              "      <th>min</th>\n",
              "      <td>29.000000</td>\n",
              "      <td>-185.300000</td>\n",
              "    </tr>\n",
              "    <tr>\n",
              "      <th>25%</th>\n",
              "      <td>50.450000</td>\n",
              "      <td>-2.000000</td>\n",
              "    </tr>\n",
              "    <tr>\n",
              "      <th>50%</th>\n",
              "      <td>66.300000</td>\n",
              "      <td>0.600000</td>\n",
              "    </tr>\n",
              "    <tr>\n",
              "      <th>75%</th>\n",
              "      <td>80.800000</td>\n",
              "      <td>3.000000</td>\n",
              "    </tr>\n",
              "    <tr>\n",
              "      <th>max</th>\n",
              "      <td>92.800000</td>\n",
              "      <td>13.300000</td>\n",
              "    </tr>\n",
              "  </tbody>\n",
              "</table>\n",
              "</div>\n",
              "      <button class=\"colab-df-convert\" onclick=\"convertToInteractive('df-f8f5647c-a88d-40e3-b1f6-e4370d091ad5')\"\n",
              "              title=\"Convert this dataframe to an interactive table.\"\n",
              "              style=\"display:none;\">\n",
              "        \n",
              "  <svg xmlns=\"http://www.w3.org/2000/svg\" height=\"24px\"viewBox=\"0 0 24 24\"\n",
              "       width=\"24px\">\n",
              "    <path d=\"M0 0h24v24H0V0z\" fill=\"none\"/>\n",
              "    <path d=\"M18.56 5.44l.94 2.06.94-2.06 2.06-.94-2.06-.94-.94-2.06-.94 2.06-2.06.94zm-11 1L8.5 8.5l.94-2.06 2.06-.94-2.06-.94L8.5 2.5l-.94 2.06-2.06.94zm10 10l.94 2.06.94-2.06 2.06-.94-2.06-.94-.94-2.06-.94 2.06-2.06.94z\"/><path d=\"M17.41 7.96l-1.37-1.37c-.4-.4-.92-.59-1.43-.59-.52 0-1.04.2-1.43.59L10.3 9.45l-7.72 7.72c-.78.78-.78 2.05 0 2.83L4 21.41c.39.39.9.59 1.41.59.51 0 1.02-.2 1.41-.59l7.78-7.78 2.81-2.81c.8-.78.8-2.07 0-2.86zM5.41 20L4 18.59l7.72-7.72 1.47 1.35L5.41 20z\"/>\n",
              "  </svg>\n",
              "      </button>\n",
              "      \n",
              "  <style>\n",
              "    .colab-df-container {\n",
              "      display:flex;\n",
              "      flex-wrap:wrap;\n",
              "      gap: 12px;\n",
              "    }\n",
              "\n",
              "    .colab-df-convert {\n",
              "      background-color: #E8F0FE;\n",
              "      border: none;\n",
              "      border-radius: 50%;\n",
              "      cursor: pointer;\n",
              "      display: none;\n",
              "      fill: #1967D2;\n",
              "      height: 32px;\n",
              "      padding: 0 0 0 0;\n",
              "      width: 32px;\n",
              "    }\n",
              "\n",
              "    .colab-df-convert:hover {\n",
              "      background-color: #E2EBFA;\n",
              "      box-shadow: 0px 1px 2px rgba(60, 64, 67, 0.3), 0px 1px 3px 1px rgba(60, 64, 67, 0.15);\n",
              "      fill: #174EA6;\n",
              "    }\n",
              "\n",
              "    [theme=dark] .colab-df-convert {\n",
              "      background-color: #3B4455;\n",
              "      fill: #D2E3FC;\n",
              "    }\n",
              "\n",
              "    [theme=dark] .colab-df-convert:hover {\n",
              "      background-color: #434B5C;\n",
              "      box-shadow: 0px 1px 3px 1px rgba(0, 0, 0, 0.15);\n",
              "      filter: drop-shadow(0px 1px 2px rgba(0, 0, 0, 0.3));\n",
              "      fill: #FFFFFF;\n",
              "    }\n",
              "  </style>\n",
              "\n",
              "      <script>\n",
              "        const buttonEl =\n",
              "          document.querySelector('#df-f8f5647c-a88d-40e3-b1f6-e4370d091ad5 button.colab-df-convert');\n",
              "        buttonEl.style.display =\n",
              "          google.colab.kernel.accessAllowed ? 'block' : 'none';\n",
              "\n",
              "        async function convertToInteractive(key) {\n",
              "          const element = document.querySelector('#df-f8f5647c-a88d-40e3-b1f6-e4370d091ad5');\n",
              "          const dataTable =\n",
              "            await google.colab.kernel.invokeFunction('convertToInteractive',\n",
              "                                                     [key], {});\n",
              "          if (!dataTable) return;\n",
              "\n",
              "          const docLinkHtml = 'Like what you see? Visit the ' +\n",
              "            '<a target=\"_blank\" href=https://colab.research.google.com/notebooks/data_table.ipynb>data table notebook</a>'\n",
              "            + ' to learn more about interactive tables.';\n",
              "          element.innerHTML = '';\n",
              "          dataTable['output_type'] = 'display_data';\n",
              "          await google.colab.output.renderOutput(dataTable, element);\n",
              "          const docLink = document.createElement('div');\n",
              "          docLink.innerHTML = docLinkHtml;\n",
              "          element.appendChild(docLink);\n",
              "        }\n",
              "      </script>\n",
              "    </div>\n",
              "  </div>\n",
              "  "
            ]
          },
          "metadata": {},
          "execution_count": 51
        }
      ]
    },
    {
      "cell_type": "markdown",
      "source": [
        "## Plotting\n",
        "\n",
        "Finally, you can plot the data using `.plot()`\n",
        "\n",
        "**NOTE**: This lesson is modeled after a lesson from our Earth Data Science textbook (https://www.earthdatascience.org/courses/scientists-guide-to-plotting-data-in-python/plot-activities/plot-tabular-pandas-data-python/)"
      ],
      "metadata": {
        "id": "R9ZcgyxqihbR"
      }
    },
    {
      "cell_type": "markdown",
      "source": [
        "### **TASK**: Plot your temperature data using `.plot()`"
      ],
      "metadata": {
        "id": "EQs0BJwy9yQ3"
      }
    },
    {
      "cell_type": "code",
      "source": [
        "DC_tmax_df.plot(\n",
        "    y=\"Value\",\n",
        "    title = \"DC Max Temperature\",\n",
        "    ylabel = \"Max Temperature (degF)\",\n",
        "    legend=False)"
      ],
      "metadata": {
        "id": "RJpxNiTBijjz",
        "colab": {
          "base_uri": "https://localhost:8080/",
          "height": 313
        },
        "outputId": "15696e02-0a76-4f3f-8cd1-5ffa77c51930"
      },
      "execution_count": null,
      "outputs": [
        {
          "output_type": "execute_result",
          "data": {
            "text/plain": [
              "<matplotlib.axes._subplots.AxesSubplot at 0x7f1fe8147290>"
            ]
          },
          "metadata": {},
          "execution_count": 63
        },
        {
          "output_type": "display_data",
          "data": {
            "text/plain": [
              "<Figure size 432x288 with 1 Axes>"
            ],
            "image/png": "[encoded data removed]"
          },
          "metadata": {
            "needs_background": "light"
          }
        }
      ]
    },
    {
      "cell_type": "markdown",
      "source": [
        "## Functions and Loops\n",
        "\n",
        "Programming is especially useful when you need to perform the same task or similar tasks over and over. For example - suppose we want to to convert the temperatures in our DataFrame from Fahrenheit to Celcius? "
      ],
      "metadata": {
        "id": "EyQH_Llgijvk"
      }
    },
    {
      "cell_type": "markdown",
      "source": [
        "### TASK: Convert a single temperature from Fahrenheit to Celcius"
      ],
      "metadata": {
        "id": "lopb1Ij8kh4C"
      }
    },
    {
      "cell_type": "code",
      "source": [
        "temp_f = 45.3\n",
        "temp_c = (temp_f-32) * 5/9\n",
        "temp_c"
      ],
      "metadata": {
        "id": "Z7MoeY4uiuxz",
        "colab": {
          "base_uri": "https://localhost:8080/"
        },
        "outputId": "bdbcb7bb-b1e1-42c2-a92e-a6595e047447"
      },
      "execution_count": null,
      "outputs": [
        {
          "output_type": "execute_result",
          "data": {
            "text/plain": [
              "7.3888888888888875"
            ]
          },
          "metadata": {},
          "execution_count": 68
        }
      ]
    },
    {
      "cell_type": "markdown",
      "source": [
        "### TASK: Write a function to convert the temperature, then test it by converting a single temperature"
      ],
      "metadata": {
        "id": "JAWNArtgkqkz"
      }
    },
    {
      "cell_type": "code",
      "source": [
        "def fahrenheit_to_celcius(temp_fahrenheit):\n",
        "    \n",
        "    return (temp_fahrenheit-32) * 5/9\n",
        "\n",
        "fahrenheit_to_celcius(temp_f)"
      ],
      "metadata": {
        "id": "YVoGlYDkk9G7",
        "colab": {
          "base_uri": "https://localhost:8080/"
        },
        "outputId": "b9632a47-ef58-4c4a-c72c-b02319a1046c"
      },
      "execution_count": null,
      "outputs": [
        {
          "output_type": "execute_result",
          "data": {
            "text/plain": [
              "7.3888888888888875"
            ]
          },
          "metadata": {},
          "execution_count": 73
        }
      ]
    },
    {
      "cell_type": "markdown",
      "source": [
        "### TASK: Make a copy of one year of your data"
      ],
      "metadata": {
        "id": "fTY5pZ2yk8Rz"
      }
    },
    {
      "cell_type": "code",
      "source": [
        "toy_df = DC_tmax_df[DC_tmax_df.index.year==2005].copy()\n",
        "toy_df"
      ],
      "metadata": {
        "id": "dEo6cyNXlM3E",
        "colab": {
          "base_uri": "https://localhost:8080/",
          "height": 457
        },
        "outputId": "72e69582-da41-4db7-f133-0d559aafca5d"
      },
      "execution_count": null,
      "outputs": [
        {
          "output_type": "execute_result",
          "data": {
            "text/plain": [
              "            Value  Anomaly\n",
              "Date                      \n",
              "2005-01-01   42.6      2.5\n",
              "2005-02-01   47.3      3.7\n",
              "2005-03-01   50.4     -3.2\n",
              "2005-04-01   67.7      3.0\n",
              "2005-05-01   70.8     -3.1\n",
              "2005-06-01   84.5      2.4\n",
              "2005-07-01   86.9      0.6\n",
              "2005-08-01   87.4      2.6\n",
              "2005-09-01   84.5      6.7\n",
              "2005-10-01   67.8      1.1\n",
              "2005-11-01   59.7      4.1\n",
              "2005-12-01   41.8     -2.6"
            ],
            "text/html": [
              "\n",
              "  <div id=\"df-bcd1ecc7-5af5-4d9f-bc59-8779fd38ced2\">\n",
              "    <div class=\"colab-df-container\">\n",
              "      <div>\n",
              "<style scoped>\n",
              "    .dataframe tbody tr th:only-of-type {\n",
              "        vertical-align: middle;\n",
              "    }\n",
              "\n",
              "    .dataframe tbody tr th {\n",
              "        vertical-align: top;\n",
              "    }\n",
              "\n",
              "    .dataframe thead th {\n",
              "        text-align: right;\n",
              "    }\n",
              "</style>\n",
              "<table border=\"1\" class=\"dataframe\">\n",
              "  <thead>\n",
              "    <tr style=\"text-align: right;\">\n",
              "      <th></th>\n",
              "      <th>Value</th>\n",
              "      <th>Anomaly</th>\n",
              "    </tr>\n",
              "    <tr>\n",
              "      <th>Date</th>\n",
              "      <th></th>\n",
              "      <th></th>\n",
              "    </tr>\n",
              "  </thead>\n",
              "  <tbody>\n",
              "    <tr>\n",
              "      <th>2005-01-01</th>\n",
              "      <td>42.6</td>\n",
              "      <td>2.5</td>\n",
              "    </tr>\n",
              "    <tr>\n",
              "      <th>2005-02-01</th>\n",
              "      <td>47.3</td>\n",
              "      <td>3.7</td>\n",
              "    </tr>\n",
              "    <tr>\n",
              "      <th>2005-03-01</th>\n",
              "      <td>50.4</td>\n",
              "      <td>-3.2</td>\n",
              "    </tr>\n",
              "    <tr>\n",
              "      <th>2005-04-01</th>\n",
              "      <td>67.7</td>\n",
              "      <td>3.0</td>\n",
              "    </tr>\n",
              "    <tr>\n",
              "      <th>2005-05-01</th>\n",
              "      <td>70.8</td>\n",
              "      <td>-3.1</td>\n",
              "    </tr>\n",
              "    <tr>\n",
              "      <th>2005-06-01</th>\n",
              "      <td>84.5</td>\n",
              "      <td>2.4</td>\n",
              "    </tr>\n",
              "    <tr>\n",
              "      <th>2005-07-01</th>\n",
              "      <td>86.9</td>\n",
              "      <td>0.6</td>\n",
              "    </tr>\n",
              "    <tr>\n",
              "      <th>2005-08-01</th>\n",
              "      <td>87.4</td>\n",
              "      <td>2.6</td>\n",
              "    </tr>\n",
              "    <tr>\n",
              "      <th>2005-09-01</th>\n",
              "      <td>84.5</td>\n",
              "      <td>6.7</td>\n",
              "    </tr>\n",
              "    <tr>\n",
              "      <th>2005-10-01</th>\n",
              "      <td>67.8</td>\n",
              "      <td>1.1</td>\n",
              "    </tr>\n",
              "    <tr>\n",
              "      <th>2005-11-01</th>\n",
              "      <td>59.7</td>\n",
              "      <td>4.1</td>\n",
              "    </tr>\n",
              "    <tr>\n",
              "      <th>2005-12-01</th>\n",
              "      <td>41.8</td>\n",
              "      <td>-2.6</td>\n",
              "    </tr>\n",
              "  </tbody>\n",
              "</table>\n",
              "</div>\n",
              "      <button class=\"colab-df-convert\" onclick=\"convertToInteractive('df-bcd1ecc7-5af5-4d9f-bc59-8779fd38ced2')\"\n",
              "              title=\"Convert this dataframe to an interactive table.\"\n",
              "              style=\"display:none;\">\n",
              "        \n",
              "  <svg xmlns=\"http://www.w3.org/2000/svg\" height=\"24px\"viewBox=\"0 0 24 24\"\n",
              "       width=\"24px\">\n",
              "    <path d=\"M0 0h24v24H0V0z\" fill=\"none\"/>\n",
              "    <path d=\"M18.56 5.44l.94 2.06.94-2.06 2.06-.94-2.06-.94-.94-2.06-.94 2.06-2.06.94zm-11 1L8.5 8.5l.94-2.06 2.06-.94-2.06-.94L8.5 2.5l-.94 2.06-2.06.94zm10 10l.94 2.06.94-2.06 2.06-.94-2.06-.94-.94-2.06-.94 2.06-2.06.94z\"/><path d=\"M17.41 7.96l-1.37-1.37c-.4-.4-.92-.59-1.43-.59-.52 0-1.04.2-1.43.59L10.3 9.45l-7.72 7.72c-.78.78-.78 2.05 0 2.83L4 21.41c.39.39.9.59 1.41.59.51 0 1.02-.2 1.41-.59l7.78-7.78 2.81-2.81c.8-.78.8-2.07 0-2.86zM5.41 20L4 18.59l7.72-7.72 1.47 1.35L5.41 20z\"/>\n",
              "  </svg>\n",
              "      </button>\n",
              "      \n",
              "  <style>\n",
              "    .colab-df-container {\n",
              "      display:flex;\n",
              "      flex-wrap:wrap;\n",
              "      gap: 12px;\n",
              "    }\n",
              "\n",
              "    .colab-df-convert {\n",
              "      background-color: #E8F0FE;\n",
              "      border: none;\n",
              "      border-radius: 50%;\n",
              "      cursor: pointer;\n",
              "      display: none;\n",
              "      fill: #1967D2;\n",
              "      height: 32px;\n",
              "      padding: 0 0 0 0;\n",
              "      width: 32px;\n",
              "    }\n",
              "\n",
              "    .colab-df-convert:hover {\n",
              "      background-color: #E2EBFA;\n",
              "      box-shadow: 0px 1px 2px rgba(60, 64, 67, 0.3), 0px 1px 3px 1px rgba(60, 64, 67, 0.15);\n",
              "      fill: #174EA6;\n",
              "    }\n",
              "\n",
              "    [theme=dark] .colab-df-convert {\n",
              "      background-color: #3B4455;\n",
              "      fill: #D2E3FC;\n",
              "    }\n",
              "\n",
              "    [theme=dark] .colab-df-convert:hover {\n",
              "      background-color: #434B5C;\n",
              "      box-shadow: 0px 1px 3px 1px rgba(0, 0, 0, 0.15);\n",
              "      filter: drop-shadow(0px 1px 2px rgba(0, 0, 0, 0.3));\n",
              "      fill: #FFFFFF;\n",
              "    }\n",
              "  </style>\n",
              "\n",
              "      <script>\n",
              "        const buttonEl =\n",
              "          document.querySelector('#df-bcd1ecc7-5af5-4d9f-bc59-8779fd38ced2 button.colab-df-convert');\n",
              "        buttonEl.style.display =\n",
              "          google.colab.kernel.accessAllowed ? 'block' : 'none';\n",
              "\n",
              "        async function convertToInteractive(key) {\n",
              "          const element = document.querySelector('#df-bcd1ecc7-5af5-4d9f-bc59-8779fd38ced2');\n",
              "          const dataTable =\n",
              "            await google.colab.kernel.invokeFunction('convertToInteractive',\n",
              "                                                     [key], {});\n",
              "          if (!dataTable) return;\n",
              "\n",
              "          const docLinkHtml = 'Like what you see? Visit the ' +\n",
              "            '<a target=\"_blank\" href=https://colab.research.google.com/notebooks/data_table.ipynb>data table notebook</a>'\n",
              "            + ' to learn more about interactive tables.';\n",
              "          element.innerHTML = '';\n",
              "          dataTable['output_type'] = 'display_data';\n",
              "          await google.colab.output.renderOutput(dataTable, element);\n",
              "          const docLink = document.createElement('div');\n",
              "          docLink.innerHTML = docLinkHtml;\n",
              "          element.appendChild(docLink);\n",
              "        }\n",
              "      </script>\n",
              "    </div>\n",
              "  </div>\n",
              "  "
            ]
          },
          "metadata": {},
          "execution_count": 76
        }
      ]
    },
    {
      "cell_type": "markdown",
      "source": [
        "### TASK: Using a for loop, print each of the Fahrenheit temperatures in your DataFrame"
      ],
      "metadata": {
        "id": "6SYjStQOnFnF"
      }
    },
    {
      "cell_type": "code",
      "source": [
        "temp_c_list = []\n",
        "for temp_f in toy_df.Value:\n",
        "    temp_c_list.append(fahrenheit_to_celcius(temp_f))\n",
        "\n",
        "temp_c_list"
      ],
      "metadata": {
        "id": "l7WXRILGnFxO",
        "colab": {
          "base_uri": "https://localhost:8080/"
        },
        "outputId": "5d218f1c-fa68-4db0-b5e5-0363aa9c41f9"
      },
      "execution_count": null,
      "outputs": [
        {
          "output_type": "execute_result",
          "data": {
            "text/plain": [
              "[5.888888888888889,\n",
              " 8.499999999999998,\n",
              " 10.222222222222221,\n",
              " 19.833333333333332,\n",
              " 21.555555555555557,\n",
              " 29.166666666666668,\n",
              " 30.5,\n",
              " 30.77777777777778,\n",
              " 29.166666666666668,\n",
              " 19.88888888888889,\n",
              " 15.38888888888889,\n",
              " 5.444444444444443]"
            ]
          },
          "metadata": {},
          "execution_count": 81
        }
      ]
    },
    {
      "cell_type": "code",
      "source": [
        "my_list = [2, 3, 4]\n",
        "my_list.append(9)\n",
        "my_list#"
      ],
      "metadata": {
        "colab": {
          "base_uri": "https://localhost:8080/"
        },
        "id": "L0hSnOoq5C7n",
        "outputId": "192e83fb-e758-419e-d7e7-51c5ea076602"
      },
      "execution_count": null,
      "outputs": [
        {
          "output_type": "execute_result",
          "data": {
            "text/plain": [
              "[2, 3, 4, 9]"
            ]
          },
          "metadata": {},
          "execution_count": 80
        }
      ]
    },
    {
      "cell_type": "markdown",
      "source": [
        "### TASK: Convert each Fahrenheit temperature to Celcius and print that instead"
      ],
      "metadata": {
        "id": "BdzPnIVZnF_P"
      }
    },
    {
      "cell_type": "code",
      "source": [
        "DC_tmax_c_list = []\n",
        "for value in DC_tmax_df.Value:\n",
        "    DC_tmax_c_list.append(fahrenheit_to_celcius(value))\n",
        "\n",
        "DC_tmax_df['tmax_c'] = (DC_tmax_c_list)\n",
        "DC_tmax_df\n"
      ],
      "metadata": {
        "id": "3eX8VoJWnGMA",
        "colab": {
          "base_uri": "https://localhost:8080/",
          "height": 455
        },
        "outputId": "27ff0137-174e-4dcc-9a9b-ddab3a0b5b92"
      },
      "execution_count": null,
      "outputs": [
        {
          "output_type": "execute_result",
          "data": {
            "text/plain": [
              "            Value  Anomaly     tmax_c\n",
              "Date                                 \n",
              "1960-06-01   81.8     -0.3  27.666667\n",
              "1960-07-01    NaN   -185.3        NaN\n",
              "1960-08-01    NaN   -183.8        NaN\n",
              "1960-09-01    NaN   -176.8        NaN\n",
              "1960-10-01    NaN   -165.7        NaN\n",
              "...           ...      ...        ...\n",
              "2022-03-01   59.9      6.3  15.500000\n",
              "2022-04-01   65.3      0.6  18.500000\n",
              "2022-05-01   75.9      2.0  24.388889\n",
              "2022-06-01   84.1      2.0  28.944444\n",
              "2022-07-01   88.3      2.0  31.277778\n",
              "\n",
              "[746 rows x 3 columns]"
            ],
            "text/html": [
              "\n",
              "  <div id=\"df-2cad11a4-9445-480d-bf18-972b818c19be\">\n",
              "    <div class=\"colab-df-container\">\n",
              "      <div>\n",
              "<style scoped>\n",
              "    .dataframe tbody tr th:only-of-type {\n",
              "        vertical-align: middle;\n",
              "    }\n",
              "\n",
              "    .dataframe tbody tr th {\n",
              "        vertical-align: top;\n",
              "    }\n",
              "\n",
              "    .dataframe thead th {\n",
              "        text-align: right;\n",
              "    }\n",
              "</style>\n",
              "<table border=\"1\" class=\"dataframe\">\n",
              "  <thead>\n",
              "    <tr style=\"text-align: right;\">\n",
              "      <th></th>\n",
              "      <th>Value</th>\n",
              "      <th>Anomaly</th>\n",
              "      <th>tmax_c</th>\n",
              "    </tr>\n",
              "    <tr>\n",
              "      <th>Date</th>\n",
              "      <th></th>\n",
              "      <th></th>\n",
              "      <th></th>\n",
              "    </tr>\n",
              "  </thead>\n",
              "  <tbody>\n",
              "    <tr>\n",
              "      <th>1960-06-01</th>\n",
              "      <td>81.8</td>\n",
              "      <td>-0.3</td>\n",
              "      <td>27.666667</td>\n",
              "    </tr>\n",
              "    <tr>\n",
              "      <th>1960-07-01</th>\n",
              "      <td>NaN</td>\n",
              "      <td>-185.3</td>\n",
              "      <td>NaN</td>\n",
              "    </tr>\n",
              "    <tr>\n",
              "      <th>1960-08-01</th>\n",
              "      <td>NaN</td>\n",
              "      <td>-183.8</td>\n",
              "      <td>NaN</td>\n",
              "    </tr>\n",
              "    <tr>\n",
              "      <th>1960-09-01</th>\n",
              "      <td>NaN</td>\n",
              "      <td>-176.8</td>\n",
              "      <td>NaN</td>\n",
              "    </tr>\n",
              "    <tr>\n",
              "      <th>1960-10-01</th>\n",
              "      <td>NaN</td>\n",
              "      <td>-165.7</td>\n",
              "      <td>NaN</td>\n",
              "    </tr>\n",
              "    <tr>\n",
              "      <th>...</th>\n",
              "      <td>...</td>\n",
              "      <td>...</td>\n",
              "      <td>...</td>\n",
              "    </tr>\n",
              "    <tr>\n",
              "      <th>2022-03-01</th>\n",
              "      <td>59.9</td>\n",
              "      <td>6.3</td>\n",
              "      <td>15.500000</td>\n",
              "    </tr>\n",
              "    <tr>\n",
              "      <th>2022-04-01</th>\n",
              "      <td>65.3</td>\n",
              "      <td>0.6</td>\n",
              "      <td>18.500000</td>\n",
              "    </tr>\n",
              "    <tr>\n",
              "      <th>2022-05-01</th>\n",
              "      <td>75.9</td>\n",
              "      <td>2.0</td>\n",
              "      <td>24.388889</td>\n",
              "    </tr>\n",
              "    <tr>\n",
              "      <th>2022-06-01</th>\n",
              "      <td>84.1</td>\n",
              "      <td>2.0</td>\n",
              "      <td>28.944444</td>\n",
              "    </tr>\n",
              "    <tr>\n",
              "      <th>2022-07-01</th>\n",
              "      <td>88.3</td>\n",
              "      <td>2.0</td>\n",
              "      <td>31.277778</td>\n",
              "    </tr>\n",
              "  </tbody>\n",
              "</table>\n",
              "<p>746 rows × 3 columns</p>\n",
              "</div>\n",
              "      <button class=\"colab-df-convert\" onclick=\"convertToInteractive('df-2cad11a4-9445-480d-bf18-972b818c19be')\"\n",
              "              title=\"Convert this dataframe to an interactive table.\"\n",
              "              style=\"display:none;\">\n",
              "        \n",
              "  <svg xmlns=\"http://www.w3.org/2000/svg\" height=\"24px\"viewBox=\"0 0 24 24\"\n",
              "       width=\"24px\">\n",
              "    <path d=\"M0 0h24v24H0V0z\" fill=\"none\"/>\n",
              "    <path d=\"M18.56 5.44l.94 2.06.94-2.06 2.06-.94-2.06-.94-.94-2.06-.94 2.06-2.06.94zm-11 1L8.5 8.5l.94-2.06 2.06-.94-2.06-.94L8.5 2.5l-.94 2.06-2.06.94zm10 10l.94 2.06.94-2.06 2.06-.94-2.06-.94-.94-2.06-.94 2.06-2.06.94z\"/><path d=\"M17.41 7.96l-1.37-1.37c-.4-.4-.92-.59-1.43-.59-.52 0-1.04.2-1.43.59L10.3 9.45l-7.72 7.72c-.78.78-.78 2.05 0 2.83L4 21.41c.39.39.9.59 1.41.59.51 0 1.02-.2 1.41-.59l7.78-7.78 2.81-2.81c.8-.78.8-2.07 0-2.86zM5.41 20L4 18.59l7.72-7.72 1.47 1.35L5.41 20z\"/>\n",
              "  </svg>\n",
              "      </button>\n",
              "      \n",
              "  <style>\n",
              "    .colab-df-container {\n",
              "      display:flex;\n",
              "      flex-wrap:wrap;\n",
              "      gap: 12px;\n",
              "    }\n",
              "\n",
              "    .colab-df-convert {\n",
              "      background-color: #E8F0FE;\n",
              "      border: none;\n",
              "      border-radius: 50%;\n",
              "      cursor: pointer;\n",
              "      display: none;\n",
              "      fill: #1967D2;\n",
              "      height: 32px;\n",
              "      padding: 0 0 0 0;\n",
              "      width: 32px;\n",
              "    }\n",
              "\n",
              "    .colab-df-convert:hover {\n",
              "      background-color: #E2EBFA;\n",
              "      box-shadow: 0px 1px 2px rgba(60, 64, 67, 0.3), 0px 1px 3px 1px rgba(60, 64, 67, 0.15);\n",
              "      fill: #174EA6;\n",
              "    }\n",
              "\n",
              "    [theme=dark] .colab-df-convert {\n",
              "      background-color: #3B4455;\n",
              "      fill: #D2E3FC;\n",
              "    }\n",
              "\n",
              "    [theme=dark] .colab-df-convert:hover {\n",
              "      background-color: #434B5C;\n",
              "      box-shadow: 0px 1px 3px 1px rgba(0, 0, 0, 0.15);\n",
              "      filter: drop-shadow(0px 1px 2px rgba(0, 0, 0, 0.3));\n",
              "      fill: #FFFFFF;\n",
              "    }\n",
              "  </style>\n",
              "\n",
              "      <script>\n",
              "        const buttonEl =\n",
              "          document.querySelector('#df-2cad11a4-9445-480d-bf18-972b818c19be button.colab-df-convert');\n",
              "        buttonEl.style.display =\n",
              "          google.colab.kernel.accessAllowed ? 'block' : 'none';\n",
              "\n",
              "        async function convertToInteractive(key) {\n",
              "          const element = document.querySelector('#df-2cad11a4-9445-480d-bf18-972b818c19be');\n",
              "          const dataTable =\n",
              "            await google.colab.kernel.invokeFunction('convertToInteractive',\n",
              "                                                     [key], {});\n",
              "          if (!dataTable) return;\n",
              "\n",
              "          const docLinkHtml = 'Like what you see? Visit the ' +\n",
              "            '<a target=\"_blank\" href=https://colab.research.google.com/notebooks/data_table.ipynb>data table notebook</a>'\n",
              "            + ' to learn more about interactive tables.';\n",
              "          element.innerHTML = '';\n",
              "          dataTable['output_type'] = 'display_data';\n",
              "          await google.colab.output.renderOutput(dataTable, element);\n",
              "          const docLink = document.createElement('div');\n",
              "          docLink.innerHTML = docLinkHtml;\n",
              "          element.appendChild(docLink);\n",
              "        }\n",
              "      </script>\n",
              "    </div>\n",
              "  </div>\n",
              "  "
            ]
          },
          "metadata": {},
          "execution_count": 84
        }
      ]
    },
    {
      "cell_type": "code",
      "source": [
        "DC_tmax_df.rename(\n",
        "    columns={'Value' : 'tmax_f'})"
      ],
      "metadata": {
        "colab": {
          "base_uri": "https://localhost:8080/",
          "height": 455
        },
        "id": "VOrxFY5t7FBb",
        "outputId": "a051ef0a-ee37-4db7-b357-08d2b30f2ccc"
      },
      "execution_count": null,
      "outputs": [
        {
          "output_type": "execute_result",
          "data": {
            "text/plain": [
              "            tmax_f  Anomaly     tmax_c\n",
              "Date                                  \n",
              "1960-06-01    81.8     -0.3  27.666667\n",
              "1960-07-01     NaN   -185.3        NaN\n",
              "1960-08-01     NaN   -183.8        NaN\n",
              "1960-09-01     NaN   -176.8        NaN\n",
              "1960-10-01     NaN   -165.7        NaN\n",
              "...            ...      ...        ...\n",
              "2022-03-01    59.9      6.3  15.500000\n",
              "2022-04-01    65.3      0.6  18.500000\n",
              "2022-05-01    75.9      2.0  24.388889\n",
              "2022-06-01    84.1      2.0  28.944444\n",
              "2022-07-01    88.3      2.0  31.277778\n",
              "\n",
              "[746 rows x 3 columns]"
            ],
            "text/html": [
              "\n",
              "  <div id=\"df-4de5bbdf-b7cc-4829-b6ab-8fe3d4a2efe7\">\n",
              "    <div class=\"colab-df-container\">\n",
              "      <div>\n",
              "<style scoped>\n",
              "    .dataframe tbody tr th:only-of-type {\n",
              "        vertical-align: middle;\n",
              "    }\n",
              "\n",
              "    .dataframe tbody tr th {\n",
              "        vertical-align: top;\n",
              "    }\n",
              "\n",
              "    .dataframe thead th {\n",
              "        text-align: right;\n",
              "    }\n",
              "</style>\n",
              "<table border=\"1\" class=\"dataframe\">\n",
              "  <thead>\n",
              "    <tr style=\"text-align: right;\">\n",
              "      <th></th>\n",
              "      <th>tmax_f</th>\n",
              "      <th>Anomaly</th>\n",
              "      <th>tmax_c</th>\n",
              "    </tr>\n",
              "    <tr>\n",
              "      <th>Date</th>\n",
              "      <th></th>\n",
              "      <th></th>\n",
              "      <th></th>\n",
              "    </tr>\n",
              "  </thead>\n",
              "  <tbody>\n",
              "    <tr>\n",
              "      <th>1960-06-01</th>\n",
              "      <td>81.8</td>\n",
              "      <td>-0.3</td>\n",
              "      <td>27.666667</td>\n",
              "    </tr>\n",
              "    <tr>\n",
              "      <th>1960-07-01</th>\n",
              "      <td>NaN</td>\n",
              "      <td>-185.3</td>\n",
              "      <td>NaN</td>\n",
              "    </tr>\n",
              "    <tr>\n",
              "      <th>1960-08-01</th>\n",
              "      <td>NaN</td>\n",
              "      <td>-183.8</td>\n",
              "      <td>NaN</td>\n",
              "    </tr>\n",
              "    <tr>\n",
              "      <th>1960-09-01</th>\n",
              "      <td>NaN</td>\n",
              "      <td>-176.8</td>\n",
              "      <td>NaN</td>\n",
              "    </tr>\n",
              "    <tr>\n",
              "      <th>1960-10-01</th>\n",
              "      <td>NaN</td>\n",
              "      <td>-165.7</td>\n",
              "      <td>NaN</td>\n",
              "    </tr>\n",
              "    <tr>\n",
              "      <th>...</th>\n",
              "      <td>...</td>\n",
              "      <td>...</td>\n",
              "      <td>...</td>\n",
              "    </tr>\n",
              "    <tr>\n",
              "      <th>2022-03-01</th>\n",
              "      <td>59.9</td>\n",
              "      <td>6.3</td>\n",
              "      <td>15.500000</td>\n",
              "    </tr>\n",
              "    <tr>\n",
              "      <th>2022-04-01</th>\n",
              "      <td>65.3</td>\n",
              "      <td>0.6</td>\n",
              "      <td>18.500000</td>\n",
              "    </tr>\n",
              "    <tr>\n",
              "      <th>2022-05-01</th>\n",
              "      <td>75.9</td>\n",
              "      <td>2.0</td>\n",
              "      <td>24.388889</td>\n",
              "    </tr>\n",
              "    <tr>\n",
              "      <th>2022-06-01</th>\n",
              "      <td>84.1</td>\n",
              "      <td>2.0</td>\n",
              "      <td>28.944444</td>\n",
              "    </tr>\n",
              "    <tr>\n",
              "      <th>2022-07-01</th>\n",
              "      <td>88.3</td>\n",
              "      <td>2.0</td>\n",
              "      <td>31.277778</td>\n",
              "    </tr>\n",
              "  </tbody>\n",
              "</table>\n",
              "<p>746 rows × 3 columns</p>\n",
              "</div>\n",
              "      <button class=\"colab-df-convert\" onclick=\"convertToInteractive('df-4de5bbdf-b7cc-4829-b6ab-8fe3d4a2efe7')\"\n",
              "              title=\"Convert this dataframe to an interactive table.\"\n",
              "              style=\"display:none;\">\n",
              "        \n",
              "  <svg xmlns=\"http://www.w3.org/2000/svg\" height=\"24px\"viewBox=\"0 0 24 24\"\n",
              "       width=\"24px\">\n",
              "    <path d=\"M0 0h24v24H0V0z\" fill=\"none\"/>\n",
              "    <path d=\"M18.56 5.44l.94 2.06.94-2.06 2.06-.94-2.06-.94-.94-2.06-.94 2.06-2.06.94zm-11 1L8.5 8.5l.94-2.06 2.06-.94-2.06-.94L8.5 2.5l-.94 2.06-2.06.94zm10 10l.94 2.06.94-2.06 2.06-.94-2.06-.94-.94-2.06-.94 2.06-2.06.94z\"/><path d=\"M17.41 7.96l-1.37-1.37c-.4-.4-.92-.59-1.43-.59-.52 0-1.04.2-1.43.59L10.3 9.45l-7.72 7.72c-.78.78-.78 2.05 0 2.83L4 21.41c.39.39.9.59 1.41.59.51 0 1.02-.2 1.41-.59l7.78-7.78 2.81-2.81c.8-.78.8-2.07 0-2.86zM5.41 20L4 18.59l7.72-7.72 1.47 1.35L5.41 20z\"/>\n",
              "  </svg>\n",
              "      </button>\n",
              "      \n",
              "  <style>\n",
              "    .colab-df-container {\n",
              "      display:flex;\n",
              "      flex-wrap:wrap;\n",
              "      gap: 12px;\n",
              "    }\n",
              "\n",
              "    .colab-df-convert {\n",
              "      background-color: #E8F0FE;\n",
              "      border: none;\n",
              "      border-radius: 50%;\n",
              "      cursor: pointer;\n",
              "      display: none;\n",
              "      fill: #1967D2;\n",
              "      height: 32px;\n",
              "      padding: 0 0 0 0;\n",
              "      width: 32px;\n",
              "    }\n",
              "\n",
              "    .colab-df-convert:hover {\n",
              "      background-color: #E2EBFA;\n",
              "      box-shadow: 0px 1px 2px rgba(60, 64, 67, 0.3), 0px 1px 3px 1px rgba(60, 64, 67, 0.15);\n",
              "      fill: #174EA6;\n",
              "    }\n",
              "\n",
              "    [theme=dark] .colab-df-convert {\n",
              "      background-color: #3B4455;\n",
              "      fill: #D2E3FC;\n",
              "    }\n",
              "\n",
              "    [theme=dark] .colab-df-convert:hover {\n",
              "      background-color: #434B5C;\n",
              "      box-shadow: 0px 1px 3px 1px rgba(0, 0, 0, 0.15);\n",
              "      filter: drop-shadow(0px 1px 2px rgba(0, 0, 0, 0.3));\n",
              "      fill: #FFFFFF;\n",
              "    }\n",
              "  </style>\n",
              "\n",
              "      <script>\n",
              "        const buttonEl =\n",
              "          document.querySelector('#df-4de5bbdf-b7cc-4829-b6ab-8fe3d4a2efe7 button.colab-df-convert');\n",
              "        buttonEl.style.display =\n",
              "          google.colab.kernel.accessAllowed ? 'block' : 'none';\n",
              "\n",
              "        async function convertToInteractive(key) {\n",
              "          const element = document.querySelector('#df-4de5bbdf-b7cc-4829-b6ab-8fe3d4a2efe7');\n",
              "          const dataTable =\n",
              "            await google.colab.kernel.invokeFunction('convertToInteractive',\n",
              "                                                     [key], {});\n",
              "          if (!dataTable) return;\n",
              "\n",
              "          const docLinkHtml = 'Like what you see? Visit the ' +\n",
              "            '<a target=\"_blank\" href=https://colab.research.google.com/notebooks/data_table.ipynb>data table notebook</a>'\n",
              "            + ' to learn more about interactive tables.';\n",
              "          element.innerHTML = '';\n",
              "          dataTable['output_type'] = 'display_data';\n",
              "          await google.colab.output.renderOutput(dataTable, element);\n",
              "          const docLink = document.createElement('div');\n",
              "          docLink.innerHTML = docLinkHtml;\n",
              "          element.appendChild(docLink);\n",
              "        }\n",
              "      </script>\n",
              "    </div>\n",
              "  </div>\n",
              "  "
            ]
          },
          "metadata": {},
          "execution_count": 87
        }
      ]
    },
    {
      "cell_type": "markdown",
      "source": [
        "### TASK: Store the Celcius temperatures in a list"
      ],
      "metadata": {
        "id": "EWYugoq4nGWv"
      }
    },
    {
      "cell_type": "code",
      "source": [
        ""
      ],
      "metadata": {
        "id": "1jLdPRuGnGhJ"
      },
      "execution_count": null,
      "outputs": []
    },
    {
      "cell_type": "markdown",
      "source": [
        "### TASK: Compute a list of all the temperatures in your DataFrame in Celcius. Then, add them to your DataFrame as a new column.\n",
        "\n",
        "**HINT - use the one-year test DataFrame to try out your method before applying it to the whole DataFrame**"
      ],
      "metadata": {
        "id": "WpMGTgxklNQ2"
      }
    },
    {
      "cell_type": "code",
      "source": [
        ""
      ],
      "metadata": {
        "id": "AEplZrDXnqpy"
      },
      "execution_count": null,
      "outputs": []
    },
    {
      "cell_type": "markdown",
      "source": [
        "### TASK: Plot the temperature in Celcius over time"
      ],
      "metadata": {
        "id": "AjJ07BHMnrct"
      }
    },
    {
      "cell_type": "code",
      "source": [
        "DC_tmax_df.tmax_c.plot()"
      ],
      "metadata": {
        "colab": {
          "base_uri": "https://localhost:8080/",
          "height": 298
        },
        "id": "zH2dDCvf8WnP",
        "outputId": "44fd39ff-90df-424f-f9b7-21b2707bbc47"
      },
      "execution_count": null,
      "outputs": [
        {
          "output_type": "execute_result",
          "data": {
            "text/plain": [
              "<matplotlib.axes._subplots.AxesSubplot at 0x7f1fe6250990>"
            ]
          },
          "metadata": {},
          "execution_count": 88
        },
        {
          "output_type": "display_data",
          "data": {
            "text/plain": [
              "<Figure size 432x288 with 1 Axes>"
            ],
            "image/png": "[encoded data removed]"
          },
          "metadata": {
            "needs_background": "light"
          }
        }
      ]
    }
  ]
}